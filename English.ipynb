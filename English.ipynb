{
 "cells": [
  {
   "cell_type": "code",
   "execution_count": 262,
   "metadata": {},
   "outputs": [],
   "source": [
    "import pandas as pd\n",
    "import numpy as np\n",
    "from matplotlib import pyplot as plt\n",
    "import os"
   ]
  },
  {
   "cell_type": "code",
   "execution_count": 255,
   "metadata": {},
   "outputs": [],
   "source": [
    "files=set(os.listdir('./aclImdb/train/pos'))"
   ]
  },
  {
   "cell_type": "code",
   "execution_count": 256,
   "metadata": {},
   "outputs": [],
   "source": [
    "df=pd.DataFrame(columns=['review','sentiment'],index=[int(str(i).split('_')[0]) for i in files])"
   ]
  },
  {
   "cell_type": "code",
   "execution_count": 257,
   "metadata": {},
   "outputs": [
    {
     "name": "stdout",
     "output_type": "stream",
     "text": [
      "8263_9.txt\n",
      "11351_9.txt\n",
      "9107_7.txt\n",
      "5343_8.txt\n",
      "1990_10.txt\n",
      "11668_7.txt\n",
      "2362_9.txt\n",
      "10327_7.txt\n",
      "4942_7.txt\n",
      "2538_10.txt\n",
      "12467_7.txt\n"
     ]
    }
   ],
   "source": [
    "for i in files:\n",
    "    try:\n",
    "        file=open('./aclImdb/train/pos/'+i).read()\n",
    "        id_s,rating=str(i).split('_')[0],str(i).split('_')[1].split('.')[0]\n",
    "        df['review'].loc[int(id_s)]=file\n",
    "        df['sentiment'].loc[int(id_s)]=rating\n",
    "    except:\n",
    "        print(i)"
   ]
  },
  {
   "cell_type": "code",
   "execution_count": 258,
   "metadata": {},
   "outputs": [],
   "source": [
    "df.to_csv('movie_data.csv',index=False)"
   ]
  },
  {
   "cell_type": "code",
   "execution_count": 523,
   "metadata": {},
   "outputs": [],
   "source": [
    "df=pd.read_csv('movie_data.csv')"
   ]
  },
  {
   "cell_type": "code",
   "execution_count": 524,
   "metadata": {},
   "outputs": [],
   "source": [
    "df.dropna(inplace=True)"
   ]
  },
  {
   "cell_type": "code",
   "execution_count": 525,
   "metadata": {},
   "outputs": [],
   "source": [
    "def convert_encoding(x):\n",
    "    text='0'*(int(x)-1)+'1'+'0'*(10-int(x))\n",
    "    return text"
   ]
  },
  {
   "cell_type": "code",
   "execution_count": 526,
   "metadata": {},
   "outputs": [
    {
     "data": {
      "text/plain": [
       "[]"
      ]
     },
     "execution_count": 526,
     "metadata": {},
     "output_type": "execute_result"
    },
    {
     "data": {
      "image/png": "[encoded data removed]",
      "text/plain": [
       "<Figure size 432x288 with 1 Axes>"
      ]
     },
     "metadata": {
      "needs_background": "light"
     },
     "output_type": "display_data"
    }
   ],
   "source": [
    "df.groupby('sentiment').count().plot.bar()\n",
    "plt.plot()"
   ]
  },
  {
   "cell_type": "code",
   "execution_count": 527,
   "metadata": {},
   "outputs": [],
   "source": [
    "df['sentiment']=df['sentiment'].map(convert_encoding)"
   ]
  },
  {
   "cell_type": "code",
   "execution_count": 528,
   "metadata": {},
   "outputs": [],
   "source": [
    "df=df.head(500)"
   ]
  },
  {
   "cell_type": "code",
   "execution_count": 529,
   "metadata": {},
   "outputs": [
    {
     "data": {
      "text/html": [
       "<div>\n",
       "<style scoped>\n",
       "    .dataframe tbody tr th:only-of-type {\n",
       "        vertical-align: middle;\n",
       "    }\n",
       "\n",
       "    .dataframe tbody tr th {\n",
       "        vertical-align: top;\n",
       "    }\n",
       "\n",
       "    .dataframe thead th {\n",
       "        text-align: right;\n",
       "    }\n",
       "</style>\n",
       "<table border=\"1\" class=\"dataframe\">\n",
       "  <thead>\n",
       "    <tr style=\"text-align: right;\">\n",
       "      <th></th>\n",
       "      <th>review</th>\n",
       "      <th>sentiment</th>\n",
       "    </tr>\n",
       "  </thead>\n",
       "  <tbody>\n",
       "    <tr>\n",
       "      <th>0</th>\n",
       "      <td>I bought this game on an impulse buy from walm...</td>\n",
       "      <td>0000000100</td>\n",
       "    </tr>\n",
       "    <tr>\n",
       "      <th>1</th>\n",
       "      <td>This movie, to me, is about family. Jimmy Morr...</td>\n",
       "      <td>0000000010</td>\n",
       "    </tr>\n",
       "    <tr>\n",
       "      <th>2</th>\n",
       "      <td>At first glance I expected this film to be cra...</td>\n",
       "      <td>0000001000</td>\n",
       "    </tr>\n",
       "    <tr>\n",
       "      <th>3</th>\n",
       "      <td>The cast is different and now they took a diff...</td>\n",
       "      <td>0000000001</td>\n",
       "    </tr>\n",
       "    <tr>\n",
       "      <th>4</th>\n",
       "      <td>I've seen this movie twice with my teenagers w...</td>\n",
       "      <td>0000001000</td>\n",
       "    </tr>\n",
       "  </tbody>\n",
       "</table>\n",
       "</div>"
      ],
      "text/plain": [
       "                                              review   sentiment\n",
       "0  I bought this game on an impulse buy from walm...  0000000100\n",
       "1  This movie, to me, is about family. Jimmy Morr...  0000000010\n",
       "2  At first glance I expected this film to be cra...  0000001000\n",
       "3  The cast is different and now they took a diff...  0000000001\n",
       "4  I've seen this movie twice with my teenagers w...  0000001000"
      ]
     },
     "execution_count": 529,
     "metadata": {},
     "output_type": "execute_result"
    }
   ],
   "source": [
    "df.head()"
   ]
  },
  {
   "cell_type": "code",
   "execution_count": 530,
   "metadata": {},
   "outputs": [],
   "source": [
    "y_arr={index:list(map(int,list(i))) for index,i in zip(df.index,df['sentiment'])}\n",
    "trans_columns=[\"x_\"+str(i) for i in range(1,len(y_arr[list(y_arr.keys())[0]])+1)]"
   ]
  },
  {
   "cell_type": "code",
   "execution_count": 531,
   "metadata": {},
   "outputs": [],
   "source": [
    "trans_df=pd.DataFrame(list(y_arr.values()),columns=trans_columns,index=y_arr.keys())"
   ]
  },
  {
   "cell_type": "code",
   "execution_count": 532,
   "metadata": {},
   "outputs": [
    {
     "data": {
      "text/html": [
       "<div>\n",
       "<style scoped>\n",
       "    .dataframe tbody tr th:only-of-type {\n",
       "        vertical-align: middle;\n",
       "    }\n",
       "\n",
       "    .dataframe tbody tr th {\n",
       "        vertical-align: top;\n",
       "    }\n",
       "\n",
       "    .dataframe thead th {\n",
       "        text-align: right;\n",
       "    }\n",
       "</style>\n",
       "<table border=\"1\" class=\"dataframe\">\n",
       "  <thead>\n",
       "    <tr style=\"text-align: right;\">\n",
       "      <th></th>\n",
       "      <th>review</th>\n",
       "      <th>sentiment</th>\n",
       "    </tr>\n",
       "  </thead>\n",
       "  <tbody>\n",
       "    <tr>\n",
       "      <th>0</th>\n",
       "      <td>I bought this game on an impulse buy from walm...</td>\n",
       "      <td>0000000100</td>\n",
       "    </tr>\n",
       "    <tr>\n",
       "      <th>1</th>\n",
       "      <td>This movie, to me, is about family. Jimmy Morr...</td>\n",
       "      <td>0000000010</td>\n",
       "    </tr>\n",
       "    <tr>\n",
       "      <th>2</th>\n",
       "      <td>At first glance I expected this film to be cra...</td>\n",
       "      <td>0000001000</td>\n",
       "    </tr>\n",
       "    <tr>\n",
       "      <th>3</th>\n",
       "      <td>The cast is different and now they took a diff...</td>\n",
       "      <td>0000000001</td>\n",
       "    </tr>\n",
       "    <tr>\n",
       "      <th>4</th>\n",
       "      <td>I've seen this movie twice with my teenagers w...</td>\n",
       "      <td>0000001000</td>\n",
       "    </tr>\n",
       "  </tbody>\n",
       "</table>\n",
       "</div>"
      ],
      "text/plain": [
       "                                              review   sentiment\n",
       "0  I bought this game on an impulse buy from walm...  0000000100\n",
       "1  This movie, to me, is about family. Jimmy Morr...  0000000010\n",
       "2  At first glance I expected this film to be cra...  0000001000\n",
       "3  The cast is different and now they took a diff...  0000000001\n",
       "4  I've seen this movie twice with my teenagers w...  0000001000"
      ]
     },
     "execution_count": 532,
     "metadata": {},
     "output_type": "execute_result"
    }
   ],
   "source": [
    "df.head()"
   ]
  },
  {
   "cell_type": "code",
   "execution_count": 533,
   "metadata": {},
   "outputs": [
    {
     "data": {
      "text/html": [
       "<div>\n",
       "<style scoped>\n",
       "    .dataframe tbody tr th:only-of-type {\n",
       "        vertical-align: middle;\n",
       "    }\n",
       "\n",
       "    .dataframe tbody tr th {\n",
       "        vertical-align: top;\n",
       "    }\n",
       "\n",
       "    .dataframe thead th {\n",
       "        text-align: right;\n",
       "    }\n",
       "</style>\n",
       "<table border=\"1\" class=\"dataframe\">\n",
       "  <thead>\n",
       "    <tr style=\"text-align: right;\">\n",
       "      <th></th>\n",
       "      <th>x_1</th>\n",
       "      <th>x_2</th>\n",
       "      <th>x_3</th>\n",
       "      <th>x_4</th>\n",
       "      <th>x_5</th>\n",
       "      <th>x_6</th>\n",
       "      <th>x_7</th>\n",
       "      <th>x_8</th>\n",
       "      <th>x_9</th>\n",
       "      <th>x_10</th>\n",
       "    </tr>\n",
       "  </thead>\n",
       "  <tbody>\n",
       "    <tr>\n",
       "      <th>0</th>\n",
       "      <td>0</td>\n",
       "      <td>0</td>\n",
       "      <td>0</td>\n",
       "      <td>0</td>\n",
       "      <td>0</td>\n",
       "      <td>0</td>\n",
       "      <td>0</td>\n",
       "      <td>1</td>\n",
       "      <td>0</td>\n",
       "      <td>0</td>\n",
       "    </tr>\n",
       "    <tr>\n",
       "      <th>1</th>\n",
       "      <td>0</td>\n",
       "      <td>0</td>\n",
       "      <td>0</td>\n",
       "      <td>0</td>\n",
       "      <td>0</td>\n",
       "      <td>0</td>\n",
       "      <td>0</td>\n",
       "      <td>0</td>\n",
       "      <td>1</td>\n",
       "      <td>0</td>\n",
       "    </tr>\n",
       "    <tr>\n",
       "      <th>2</th>\n",
       "      <td>0</td>\n",
       "      <td>0</td>\n",
       "      <td>0</td>\n",
       "      <td>0</td>\n",
       "      <td>0</td>\n",
       "      <td>0</td>\n",
       "      <td>1</td>\n",
       "      <td>0</td>\n",
       "      <td>0</td>\n",
       "      <td>0</td>\n",
       "    </tr>\n",
       "    <tr>\n",
       "      <th>3</th>\n",
       "      <td>0</td>\n",
       "      <td>0</td>\n",
       "      <td>0</td>\n",
       "      <td>0</td>\n",
       "      <td>0</td>\n",
       "      <td>0</td>\n",
       "      <td>0</td>\n",
       "      <td>0</td>\n",
       "      <td>0</td>\n",
       "      <td>1</td>\n",
       "    </tr>\n",
       "    <tr>\n",
       "      <th>4</th>\n",
       "      <td>0</td>\n",
       "      <td>0</td>\n",
       "      <td>0</td>\n",
       "      <td>0</td>\n",
       "      <td>0</td>\n",
       "      <td>0</td>\n",
       "      <td>1</td>\n",
       "      <td>0</td>\n",
       "      <td>0</td>\n",
       "      <td>0</td>\n",
       "    </tr>\n",
       "  </tbody>\n",
       "</table>\n",
       "</div>"
      ],
      "text/plain": [
       "   x_1  x_2  x_3  x_4  x_5  x_6  x_7  x_8  x_9  x_10\n",
       "0    0    0    0    0    0    0    0    1    0     0\n",
       "1    0    0    0    0    0    0    0    0    1     0\n",
       "2    0    0    0    0    0    0    1    0    0     0\n",
       "3    0    0    0    0    0    0    0    0    0     1\n",
       "4    0    0    0    0    0    0    1    0    0     0"
      ]
     },
     "execution_count": 533,
     "metadata": {},
     "output_type": "execute_result"
    }
   ],
   "source": [
    "trans_df.head()"
   ]
  },
  {
   "cell_type": "code",
   "execution_count": 534,
   "metadata": {},
   "outputs": [],
   "source": [
    "from tensorflow.python.keras.preprocessing.text import Tokenizer\n",
    "from tensorflow.python.keras.preprocessing.sequence import pad_sequences"
   ]
  },
  {
   "cell_type": "code",
   "execution_count": 535,
   "metadata": {},
   "outputs": [],
   "source": [
    "from sklearn.model_selection import train_test_split\n",
    "X_train,X_test,y_train,y_test=train_test_split(df['review'].values,trans_df.values,test_size=0.2)"
   ]
  },
  {
   "cell_type": "code",
   "execution_count": 536,
   "metadata": {},
   "outputs": [],
   "source": [
    "tokenizer_obj = Tokenizer()\n",
    "total_reviews = np.concatenate([np.array(X_train,dtype=str),np.array(X_test,dtype=str)])\n",
    "tokenizer_obj.fit_on_texts(total_reviews)"
   ]
  },
  {
   "cell_type": "code",
   "execution_count": 537,
   "metadata": {},
   "outputs": [],
   "source": [
    "max_length = max([len(str(s).split()) for s in total_reviews])"
   ]
  },
  {
   "cell_type": "code",
   "execution_count": 538,
   "metadata": {},
   "outputs": [],
   "source": [
    "vocab_size=len(tokenizer_obj.index_word)+1"
   ]
  },
  {
   "cell_type": "code",
   "execution_count": 539,
   "metadata": {},
   "outputs": [],
   "source": [
    "X_train_tokens=tokenizer_obj.texts_to_sequences(np.array(X_train,dtype=str))\n",
    "X_test_tokens=tokenizer_obj.texts_to_sequences(np.array(X_test,dtype=str))"
   ]
  },
  {
   "cell_type": "code",
   "execution_count": 540,
   "metadata": {},
   "outputs": [],
   "source": [
    "X_train_pad=pad_sequences(X_train_tokens,maxlen=max_length,padding='post')\n",
    "X_test_pad=pad_sequences(X_test_tokens,maxlen=max_length,padding='post')"
   ]
  },
  {
   "cell_type": "code",
   "execution_count": 560,
   "metadata": {},
   "outputs": [],
   "source": [
    "from keras.models import Sequential\n",
    "from keras.layers import Dense,GRU,LSTM,Embedding,Dropout,Conv1D,MaxPooling1D,Activation\n",
    "from keras.layers.embeddings import Embedding\n",
    "from keras.callbacks import EarlyStopping\n",
    "\n",
    "EMBEDDING_DIM=128\n",
    "\n",
    "# Convolution\n",
    "kernel_size = 5\n",
    "filters = 64\n",
    "pool_size = 3\n",
    "\n",
    "# LSTM\n",
    "lstm_output_size = 70\n",
    "\n",
    "model=Sequential()\n",
    "model.add(Embedding(vocab_size, EMBEDDING_DIM, input_length=max_length))\n",
    "model.add(Dropout(0.25))\n",
    "model.add(Conv1D(filters,\n",
    "                 kernel_size,\n",
    "                 padding='valid',\n",
    "                 activation='relu',\n",
    "                 strides=1))\n",
    "model.add(MaxPooling1D(pool_size=pool_size))\n",
    "model.add(LSTM(lstm_output_size))\n",
    "model.add(Dropout(0.5))\n",
    "model.add(Dense(64))\n",
    "model.add(Dropout(0.2))\n",
    "model.add(Dense(32))\n",
    "model.add(Dropout(0.2))\n",
    "model.add(Dense(16))\n",
    "model.add(Dropout(0.2))\n",
    "model.add(Dense(10))\n",
    "model.add(Activation('softmax'))\n",
    "\n",
    "early_stopping=EarlyStopping(patience=2,monitor='val_loss')\n",
    "\n",
    "model.compile(loss='categorical_crossentropy',optimizer='adam',metrics=['categorical_accuracy'])"
   ]
  },
  {
   "cell_type": "code",
   "execution_count": 561,
   "metadata": {},
   "outputs": [
    {
     "name": "stderr",
     "output_type": "stream",
     "text": [
      "D:\\Software\\Anaconda\\lib\\site-packages\\tensorflow_core\\python\\framework\\indexed_slices.py:424: UserWarning: Converting sparse IndexedSlices to a dense Tensor of unknown shape. This may consume a large amount of memory.\n",
      "  \"Converting sparse IndexedSlices to a dense Tensor of unknown shape. \"\n"
     ]
    },
    {
     "name": "stdout",
     "output_type": "stream",
     "text": [
      "Train on 400 samples, validate on 100 samples\n",
      "Epoch 1/5\n",
      "400/400 [==============================] - 171s 428ms/step - loss: 2.2756 - categorical_accuracy: 0.1825 - val_loss: 2.2233 - val_categorical_accuracy: 0.3600\n",
      "Epoch 2/5\n",
      "400/400 [==============================] - 42s 104ms/step - loss: 2.1582 - categorical_accuracy: 0.3600 - val_loss: 2.0427 - val_categorical_accuracy: 0.3600\n",
      "Epoch 3/5\n",
      "400/400 [==============================] - 56s 140ms/step - loss: 2.0219 - categorical_accuracy: 0.3675 - val_loss: 1.8535 - val_categorical_accuracy: 0.3600\n",
      "Epoch 4/5\n",
      "400/400 [==============================] - 60s 149ms/step - loss: 1.9769 - categorical_accuracy: 0.3475 - val_loss: 1.7763 - val_categorical_accuracy: 0.3600\n",
      "Epoch 5/5\n",
      "400/400 [==============================] - 45s 112ms/step - loss: 1.8526 - categorical_accuracy: 0.3475 - val_loss: 1.7354 - val_categorical_accuracy: 0.3600\n"
     ]
    },
    {
     "data": {
      "text/plain": [
       "<keras.callbacks.callbacks.History at 0x179d7b6ffd0>"
      ]
     },
     "execution_count": 561,
     "metadata": {},
     "output_type": "execute_result"
    }
   ],
   "source": [
    "model.fit(X_train_pad,y_train,epochs=5,batch_size=100,validation_data=(X_test_pad,y_test),callbacks=[early_stopping])"
   ]
  },
  {
   "cell_type": "code",
   "execution_count": 562,
   "metadata": {},
   "outputs": [],
   "source": [
    "preds=model.predict(X_test_pad)"
   ]
  },
  {
   "cell_type": "code",
   "execution_count": 563,
   "metadata": {},
   "outputs": [
    {
     "data": {
      "text/plain": [
       "array([[0.03921038, 0.02318271, 0.041412  , 0.04888294, 0.08486792,\n",
       "        0.07885532, 0.12120844, 0.17074333, 0.12256578, 0.2690712 ],\n",
       "       [0.03921038, 0.02318271, 0.04141199, 0.04888294, 0.08486789,\n",
       "        0.07885531, 0.12120843, 0.17074332, 0.12256578, 0.2690712 ],\n",
       "       [0.03921039, 0.02318272, 0.041412  , 0.04888295, 0.08486791,\n",
       "        0.07885532, 0.12120844, 0.17074335, 0.12256578, 0.26907122],\n",
       "       [0.03921038, 0.02318271, 0.041412  , 0.04888294, 0.08486792,\n",
       "        0.07885532, 0.12120844, 0.17074333, 0.12256577, 0.2690712 ],\n",
       "       [0.03921038, 0.02318271, 0.04141199, 0.04888295, 0.0848679 ,\n",
       "        0.07885531, 0.12120843, 0.1707433 , 0.12256578, 0.26907122],\n",
       "       [0.03921039, 0.02318271, 0.04141199, 0.04888295, 0.08486791,\n",
       "        0.07885532, 0.12120843, 0.17074333, 0.12256579, 0.26907116],\n",
       "       [0.03921038, 0.02318272, 0.041412  , 0.04888295, 0.08486791,\n",
       "        0.07885532, 0.12120844, 0.17074332, 0.12256581, 0.26907125],\n",
       "       [0.03921038, 0.02318271, 0.04141199, 0.04888294, 0.08486792,\n",
       "        0.07885531, 0.12120843, 0.17074333, 0.12256581, 0.2690712 ],\n",
       "       [0.03921039, 0.02318271, 0.04141199, 0.04888295, 0.08486791,\n",
       "        0.07885532, 0.12120843, 0.17074335, 0.12256579, 0.26907116],\n",
       "       [0.03921039, 0.02318271, 0.04141199, 0.04888294, 0.08486792,\n",
       "        0.07885532, 0.12120844, 0.17074333, 0.12256581, 0.2690712 ],\n",
       "       [0.03921038, 0.02318271, 0.04141199, 0.04888294, 0.08486789,\n",
       "        0.07885531, 0.12120842, 0.17074332, 0.12256581, 0.2690712 ],\n",
       "       [0.03921039, 0.02318271, 0.04141199, 0.04888294, 0.0848679 ,\n",
       "        0.07885531, 0.12120842, 0.17074332, 0.12256579, 0.2690712 ],\n",
       "       [0.03921038, 0.02318271, 0.041412  , 0.04888295, 0.08486792,\n",
       "        0.07885532, 0.12120844, 0.17074333, 0.12256579, 0.2690712 ],\n",
       "       [0.03921038, 0.02318271, 0.04141199, 0.04888295, 0.08486789,\n",
       "        0.07885532, 0.12120843, 0.17074332, 0.12256578, 0.26907122],\n",
       "       [0.03921038, 0.02318271, 0.041412  , 0.04888294, 0.08486792,\n",
       "        0.07885532, 0.12120844, 0.17074333, 0.12256578, 0.2690712 ],\n",
       "       [0.03921038, 0.02318271, 0.04141199, 0.04888294, 0.08486789,\n",
       "        0.07885531, 0.12120843, 0.17074332, 0.12256578, 0.2690712 ],\n",
       "       [0.03921038, 0.02318271, 0.04141199, 0.04888294, 0.0848679 ,\n",
       "        0.07885531, 0.12120843, 0.1707433 , 0.12256578, 0.26907122],\n",
       "       [0.03921039, 0.02318271, 0.041412  , 0.04888294, 0.08486792,\n",
       "        0.07885532, 0.12120844, 0.17074333, 0.12256579, 0.2690712 ],\n",
       "       [0.03921038, 0.02318271, 0.04141199, 0.04888294, 0.0848679 ,\n",
       "        0.07885531, 0.12120844, 0.1707433 , 0.12256577, 0.2690712 ],\n",
       "       [0.03921038, 0.02318271, 0.04141199, 0.04888294, 0.0848679 ,\n",
       "        0.07885531, 0.12120843, 0.1707433 , 0.12256578, 0.26907122],\n",
       "       [0.03921039, 0.02318272, 0.041412  , 0.04888295, 0.08486791,\n",
       "        0.07885532, 0.12120844, 0.17074335, 0.12256578, 0.26907122],\n",
       "       [0.03921038, 0.02318271, 0.041412  , 0.04888294, 0.08486791,\n",
       "        0.07885531, 0.12120844, 0.17074332, 0.12256578, 0.26907116],\n",
       "       [0.03921039, 0.02318271, 0.041412  , 0.04888295, 0.08486792,\n",
       "        0.07885532, 0.12120844, 0.17074333, 0.12256581, 0.2690712 ],\n",
       "       [0.03921038, 0.02318271, 0.04141199, 0.04888294, 0.08486791,\n",
       "        0.07885532, 0.12120844, 0.17074335, 0.12256578, 0.26907116],\n",
       "       [0.03921038, 0.02318271, 0.04141199, 0.04888294, 0.0848679 ,\n",
       "        0.07885531, 0.12120843, 0.1707433 , 0.12256578, 0.2690712 ],\n",
       "       [0.03921038, 0.02318271, 0.04141199, 0.04888294, 0.08486791,\n",
       "        0.07885531, 0.12120843, 0.17074333, 0.12256578, 0.26907116],\n",
       "       [0.03920165, 0.02317917, 0.04140519, 0.04886995, 0.0848714 ,\n",
       "        0.0788501 , 0.1212189 , 0.1707451 , 0.12257477, 0.26908374],\n",
       "       [0.03921008, 0.02318258, 0.0414119 , 0.04888263, 0.08486758,\n",
       "        0.07885545, 0.12120875, 0.17074406, 0.12256574, 0.26907116],\n",
       "       [0.03921038, 0.02318271, 0.04141199, 0.04888294, 0.08486789,\n",
       "        0.07885531, 0.12120843, 0.1707433 , 0.12256578, 0.2690712 ],\n",
       "       [0.03921038, 0.02318271, 0.041412  , 0.04888295, 0.08486789,\n",
       "        0.07885531, 0.12120844, 0.17074332, 0.12256578, 0.26907122],\n",
       "       [0.03921038, 0.02318271, 0.041412  , 0.04888294, 0.08486789,\n",
       "        0.07885531, 0.12120843, 0.1707433 , 0.12256577, 0.26907122],\n",
       "       [0.03921038, 0.02318271, 0.04141199, 0.04888295, 0.08486791,\n",
       "        0.07885531, 0.12120844, 0.17074332, 0.12256578, 0.26907116],\n",
       "       [0.03921038, 0.02318271, 0.04141199, 0.04888294, 0.08486789,\n",
       "        0.07885531, 0.12120843, 0.1707433 , 0.12256578, 0.2690712 ],\n",
       "       [0.03921038, 0.02318271, 0.04141199, 0.04888294, 0.0848679 ,\n",
       "        0.07885532, 0.12120843, 0.17074332, 0.12256577, 0.2690712 ],\n",
       "       [0.03921038, 0.02318271, 0.04141199, 0.04888294, 0.08486791,\n",
       "        0.07885532, 0.12120844, 0.17074332, 0.1225658 , 0.26907125],\n",
       "       [0.03921038, 0.02318271, 0.041412  , 0.04888294, 0.08486789,\n",
       "        0.07885531, 0.12120844, 0.17074329, 0.12256578, 0.2690712 ],\n",
       "       [0.03921038, 0.02318271, 0.04141199, 0.04888294, 0.0848679 ,\n",
       "        0.07885531, 0.12120844, 0.1707433 , 0.12256578, 0.2690712 ],\n",
       "       [0.03921038, 0.02318271, 0.041412  , 0.04888294, 0.08486791,\n",
       "        0.07885531, 0.12120841, 0.17074333, 0.12256578, 0.26907116],\n",
       "       [0.03921039, 0.02318271, 0.041412  , 0.04888294, 0.08486792,\n",
       "        0.07885532, 0.12120844, 0.17074333, 0.12256578, 0.2690712 ],\n",
       "       [0.03921038, 0.02318271, 0.04141199, 0.04888295, 0.0848679 ,\n",
       "        0.07885532, 0.12120844, 0.17074333, 0.1225658 , 0.26907125],\n",
       "       [0.03921039, 0.02318272, 0.041412  , 0.04888294, 0.0848679 ,\n",
       "        0.07885532, 0.12120844, 0.17074332, 0.12256578, 0.2690712 ],\n",
       "       [0.03921039, 0.02318272, 0.04141199, 0.04888295, 0.08486789,\n",
       "        0.07885532, 0.12120846, 0.1707433 , 0.12256578, 0.26907122],\n",
       "       [0.03921038, 0.02318271, 0.04141199, 0.04888293, 0.08486789,\n",
       "        0.07885531, 0.12120842, 0.17074329, 0.12256578, 0.2690712 ],\n",
       "       [0.03921039, 0.02318271, 0.04141199, 0.04888294, 0.08486791,\n",
       "        0.07885531, 0.12120843, 0.17074335, 0.12256579, 0.26907116],\n",
       "       [0.03921038, 0.02318271, 0.04141199, 0.04888294, 0.08486789,\n",
       "        0.07885531, 0.12120844, 0.1707433 , 0.12256577, 0.2690712 ],\n",
       "       [0.03921038, 0.02318271, 0.04141199, 0.04888294, 0.0848679 ,\n",
       "        0.07885531, 0.12120843, 0.17074332, 0.12256578, 0.2690712 ],\n",
       "       [0.03921037, 0.02318271, 0.041412  , 0.04888294, 0.0848679 ,\n",
       "        0.07885531, 0.12120843, 0.1707433 , 0.12256578, 0.2690712 ],\n",
       "       [0.03921039, 0.02318272, 0.041412  , 0.04888295, 0.08486789,\n",
       "        0.07885532, 0.12120844, 0.17074332, 0.12256577, 0.26907122],\n",
       "       [0.03921038, 0.02318271, 0.041412  , 0.04888294, 0.08486789,\n",
       "        0.07885531, 0.12120843, 0.1707433 , 0.12256579, 0.2690712 ],\n",
       "       [0.03921038, 0.02318272, 0.04141198, 0.04888294, 0.08486789,\n",
       "        0.07885531, 0.12120843, 0.1707433 , 0.12256577, 0.26907122],\n",
       "       [0.03921038, 0.02318271, 0.041412  , 0.04888294, 0.08486792,\n",
       "        0.07885532, 0.12120844, 0.17074333, 0.12256578, 0.2690712 ],\n",
       "       [0.03921038, 0.02318271, 0.04141199, 0.04888294, 0.0848679 ,\n",
       "        0.07885531, 0.12120844, 0.17074329, 0.12256579, 0.26907125],\n",
       "       [0.03920637, 0.02318088, 0.04140959, 0.04887726, 0.0848669 ,\n",
       "        0.07885525, 0.12121344, 0.17074992, 0.122568  , 0.26907244],\n",
       "       [0.03921038, 0.02318271, 0.04141199, 0.04888294, 0.0848679 ,\n",
       "        0.07885531, 0.12120842, 0.1707433 , 0.12256578, 0.2690712 ],\n",
       "       [0.03921038, 0.02318271, 0.04141199, 0.04888294, 0.08486789,\n",
       "        0.07885531, 0.12120843, 0.17074332, 0.12256578, 0.2690712 ],\n",
       "       [0.03921038, 0.02318271, 0.041412  , 0.04888294, 0.0848679 ,\n",
       "        0.07885531, 0.12120844, 0.1707433 , 0.12256578, 0.2690712 ],\n",
       "       [0.03921038, 0.02318271, 0.041412  , 0.04888293, 0.08486789,\n",
       "        0.07885532, 0.12120843, 0.17074329, 0.12256578, 0.2690712 ],\n",
       "       [0.03921038, 0.02318271, 0.04141199, 0.04888294, 0.08486789,\n",
       "        0.07885532, 0.12120843, 0.1707433 , 0.12256578, 0.2690712 ],\n",
       "       [0.03921038, 0.02318271, 0.04141199, 0.04888294, 0.08486789,\n",
       "        0.07885532, 0.12120844, 0.17074332, 0.12256577, 0.2690712 ],\n",
       "       [0.03921038, 0.02318271, 0.04141198, 0.04888294, 0.08486789,\n",
       "        0.07885531, 0.12120843, 0.17074332, 0.12256578, 0.2690712 ],\n",
       "       [0.03921038, 0.02318271, 0.041412  , 0.04888295, 0.08486792,\n",
       "        0.07885532, 0.12120844, 0.17074336, 0.12256579, 0.26907116],\n",
       "       [0.03921038, 0.02318271, 0.04141199, 0.04888295, 0.0848679 ,\n",
       "        0.07885532, 0.12120844, 0.17074333, 0.12256578, 0.2690712 ],\n",
       "       [0.03921038, 0.02318271, 0.041412  , 0.04888295, 0.0848679 ,\n",
       "        0.07885532, 0.12120844, 0.17074333, 0.12256578, 0.2690712 ],\n",
       "       [0.03921038, 0.02318271, 0.04141199, 0.04888293, 0.0848679 ,\n",
       "        0.07885531, 0.12120844, 0.1707433 , 0.12256577, 0.26907122],\n",
       "       [0.03921038, 0.02318271, 0.041412  , 0.04888294, 0.0848679 ,\n",
       "        0.07885532, 0.12120844, 0.17074335, 0.1225658 , 0.26907125],\n",
       "       [0.03921038, 0.02318271, 0.04141199, 0.04888294, 0.0848679 ,\n",
       "        0.07885532, 0.12120844, 0.1707433 , 0.12256578, 0.2690712 ],\n",
       "       [0.03921038, 0.02318271, 0.041412  , 0.04888294, 0.0848679 ,\n",
       "        0.07885532, 0.12120845, 0.17074332, 0.12256575, 0.2690712 ],\n",
       "       [0.03921038, 0.02318271, 0.041412  , 0.04888295, 0.08486789,\n",
       "        0.07885531, 0.12120844, 0.1707433 , 0.12256578, 0.26907122],\n",
       "       [0.03921038, 0.02318271, 0.04141199, 0.04888293, 0.0848679 ,\n",
       "        0.07885531, 0.12120843, 0.1707433 , 0.12256578, 0.26907122],\n",
       "       [0.03921038, 0.02318271, 0.04141199, 0.04888295, 0.08486791,\n",
       "        0.07885532, 0.12120844, 0.17074333, 0.12256578, 0.26907116],\n",
       "       [0.03921038, 0.02318271, 0.04141199, 0.04888294, 0.08486789,\n",
       "        0.07885531, 0.12120842, 0.17074329, 0.12256578, 0.2690712 ],\n",
       "       [0.03921038, 0.02318271, 0.04141199, 0.04888294, 0.08486792,\n",
       "        0.07885531, 0.12120843, 0.1707433 , 0.12256578, 0.2690712 ],\n",
       "       [0.03921039, 0.02318271, 0.04141199, 0.04888295, 0.0848679 ,\n",
       "        0.07885531, 0.12120843, 0.17074335, 0.12256578, 0.26907122],\n",
       "       [0.03921038, 0.02318271, 0.041412  , 0.04888294, 0.08486792,\n",
       "        0.07885531, 0.12120844, 0.1707433 , 0.12256578, 0.2690712 ],\n",
       "       [0.03921038, 0.02318271, 0.04141199, 0.04888294, 0.0848679 ,\n",
       "        0.07885532, 0.12120844, 0.17074333, 0.12256577, 0.2690712 ],\n",
       "       [0.03921039, 0.02318272, 0.041412  , 0.04888295, 0.0848679 ,\n",
       "        0.07885532, 0.12120844, 0.17074332, 0.12256577, 0.26907122],\n",
       "       [0.03921038, 0.02318271, 0.041412  , 0.04888295, 0.08486791,\n",
       "        0.07885531, 0.12120842, 0.17074335, 0.12256578, 0.26907113],\n",
       "       [0.03921038, 0.02318271, 0.04141199, 0.04888294, 0.08486789,\n",
       "        0.07885531, 0.12120843, 0.17074329, 0.12256578, 0.2690712 ],\n",
       "       [0.03921038, 0.02318272, 0.04141199, 0.04888295, 0.0848679 ,\n",
       "        0.07885531, 0.12120844, 0.17074332, 0.12256578, 0.26907122],\n",
       "       [0.03921038, 0.02318271, 0.04141199, 0.04888294, 0.08486789,\n",
       "        0.07885531, 0.12120842, 0.1707433 , 0.12256579, 0.2690712 ],\n",
       "       [0.03921039, 0.02318271, 0.04141199, 0.04888294, 0.08486792,\n",
       "        0.07885532, 0.12120844, 0.17074333, 0.12256579, 0.2690712 ],\n",
       "       [0.03921038, 0.02318271, 0.04141199, 0.04888294, 0.0848679 ,\n",
       "        0.07885531, 0.12120842, 0.17074332, 0.12256578, 0.2690712 ],\n",
       "       [0.03921038, 0.02318271, 0.04141199, 0.04888294, 0.08486789,\n",
       "        0.07885531, 0.12120843, 0.17074329, 0.12256579, 0.2690712 ],\n",
       "       [0.03921038, 0.02318271, 0.04141199, 0.04888294, 0.08486791,\n",
       "        0.07885531, 0.12120844, 0.17074335, 0.12256578, 0.26907116],\n",
       "       [0.03921039, 0.02318271, 0.04141199, 0.04888295, 0.0848679 ,\n",
       "        0.07885532, 0.12120844, 0.17074335, 0.12256578, 0.26907122],\n",
       "       [0.03921037, 0.0231827 , 0.04141199, 0.04888294, 0.08486789,\n",
       "        0.07885531, 0.12120842, 0.1707433 , 0.12256578, 0.2690712 ],\n",
       "       [0.03921039, 0.02318271, 0.041412  , 0.04888294, 0.0848679 ,\n",
       "        0.07885533, 0.12120843, 0.17074336, 0.12256578, 0.26907113],\n",
       "       [0.03921038, 0.02318271, 0.04141199, 0.04888294, 0.08486789,\n",
       "        0.07885531, 0.12120843, 0.17074332, 0.12256578, 0.2690712 ],\n",
       "       [0.03921038, 0.02318272, 0.04141199, 0.04888295, 0.0848679 ,\n",
       "        0.07885532, 0.12120843, 0.17074335, 0.12256577, 0.26907122],\n",
       "       [0.03921038, 0.02318271, 0.04141198, 0.04888295, 0.08486791,\n",
       "        0.07885532, 0.12120845, 0.17074332, 0.12256581, 0.26907125],\n",
       "       [0.03921038, 0.02318271, 0.04141199, 0.04888295, 0.08486789,\n",
       "        0.07885531, 0.12120843, 0.17074335, 0.12256578, 0.26907116],\n",
       "       [0.03921038, 0.02318271, 0.04141199, 0.04888294, 0.0848679 ,\n",
       "        0.07885531, 0.12120843, 0.17074333, 0.12256577, 0.2690712 ],\n",
       "       [0.03921039, 0.02318271, 0.041412  , 0.04888295, 0.08486791,\n",
       "        0.07885534, 0.12120844, 0.17074335, 0.12256579, 0.26907116],\n",
       "       [0.03921038, 0.02318271, 0.04141199, 0.04888294, 0.0848679 ,\n",
       "        0.07885531, 0.12120843, 0.1707433 , 0.12256578, 0.2690712 ],\n",
       "       [0.03921038, 0.02318271, 0.04141198, 0.04888295, 0.08486789,\n",
       "        0.07885531, 0.12120842, 0.17074333, 0.12256578, 0.26907116],\n",
       "       [0.03921039, 0.02318271, 0.04141199, 0.04888294, 0.08486789,\n",
       "        0.07885532, 0.12120842, 0.17074332, 0.12256578, 0.2690712 ],\n",
       "       [0.03921038, 0.02318271, 0.04141199, 0.04888294, 0.08486792,\n",
       "        0.07885531, 0.12120844, 0.17074333, 0.12256577, 0.2690712 ],\n",
       "       [0.03921039, 0.02318271, 0.04141198, 0.04888294, 0.0848679 ,\n",
       "        0.07885531, 0.12120844, 0.1707433 , 0.12256578, 0.26907122],\n",
       "       [0.03921038, 0.02318271, 0.04141199, 0.04888295, 0.08486791,\n",
       "        0.07885531, 0.12120844, 0.17074332, 0.12256578, 0.26907116],\n",
       "       [0.03921039, 0.02318271, 0.04141199, 0.04888294, 0.08486789,\n",
       "        0.07885531, 0.12120843, 0.1707433 , 0.12256578, 0.2690712 ]],\n",
       "      dtype=float32)"
      ]
     },
     "execution_count": 563,
     "metadata": {},
     "output_type": "execute_result"
    }
   ],
   "source": [
    "# preds[preds>=0.5]=1\n",
    "# preds[preds<0.5]=0\n",
    "preds"
   ]
  },
  {
   "cell_type": "code",
   "execution_count": 564,
   "metadata": {},
   "outputs": [
    {
     "data": {
      "text/plain": [
       "array([[0, 0, 0, 0, 0, 0, 0, 0, 0, 1],\n",
       "       [0, 0, 0, 0, 0, 0, 0, 0, 1, 0],\n",
       "       [0, 0, 0, 0, 0, 0, 0, 0, 1, 0],\n",
       "       [0, 0, 0, 0, 0, 0, 0, 0, 0, 1],\n",
       "       [0, 0, 0, 0, 0, 0, 0, 0, 1, 0],\n",
       "       [0, 0, 0, 0, 0, 0, 0, 0, 0, 1],\n",
       "       [0, 0, 0, 0, 0, 0, 0, 0, 0, 1],\n",
       "       [0, 0, 0, 0, 0, 0, 0, 0, 1, 0],\n",
       "       [0, 0, 0, 0, 0, 0, 1, 0, 0, 0],\n",
       "       [0, 0, 0, 0, 0, 0, 0, 0, 1, 0],\n",
       "       [0, 0, 0, 0, 0, 0, 0, 1, 0, 0],\n",
       "       [0, 0, 0, 0, 0, 0, 0, 0, 0, 1],\n",
       "       [0, 0, 0, 0, 0, 0, 0, 1, 0, 0],\n",
       "       [0, 0, 0, 0, 0, 0, 0, 0, 0, 1],\n",
       "       [0, 0, 0, 0, 0, 0, 0, 1, 0, 0],\n",
       "       [0, 0, 0, 0, 0, 0, 1, 0, 0, 0],\n",
       "       [0, 0, 0, 0, 0, 0, 1, 0, 0, 0],\n",
       "       [0, 0, 0, 0, 0, 0, 0, 0, 1, 0],\n",
       "       [0, 0, 0, 0, 0, 0, 0, 0, 0, 1],\n",
       "       [0, 0, 0, 0, 0, 0, 0, 1, 0, 0],\n",
       "       [0, 0, 0, 0, 0, 0, 0, 1, 0, 0],\n",
       "       [0, 0, 0, 0, 0, 0, 1, 0, 0, 0],\n",
       "       [0, 0, 0, 0, 0, 0, 0, 0, 1, 0],\n",
       "       [0, 0, 0, 0, 0, 0, 0, 1, 0, 0],\n",
       "       [0, 0, 0, 0, 0, 0, 0, 0, 0, 1],\n",
       "       [0, 0, 0, 0, 0, 0, 0, 1, 0, 0],\n",
       "       [0, 0, 0, 0, 0, 0, 1, 0, 0, 0],\n",
       "       [0, 0, 0, 0, 0, 0, 0, 1, 0, 0],\n",
       "       [0, 0, 0, 0, 0, 0, 0, 1, 0, 0],\n",
       "       [0, 0, 0, 0, 0, 0, 0, 1, 0, 0],\n",
       "       [0, 0, 0, 0, 0, 0, 0, 0, 1, 0],\n",
       "       [0, 0, 0, 0, 0, 0, 0, 1, 0, 0],\n",
       "       [0, 0, 0, 0, 0, 0, 0, 1, 0, 0],\n",
       "       [0, 0, 0, 0, 0, 0, 0, 1, 0, 0],\n",
       "       [0, 0, 0, 0, 0, 0, 0, 1, 0, 0],\n",
       "       [0, 0, 0, 0, 0, 0, 0, 0, 0, 1],\n",
       "       [0, 0, 0, 0, 0, 0, 0, 0, 0, 1],\n",
       "       [0, 0, 0, 0, 0, 0, 0, 0, 1, 0],\n",
       "       [0, 0, 0, 0, 0, 0, 0, 0, 0, 1],\n",
       "       [0, 0, 0, 0, 0, 0, 0, 0, 1, 0],\n",
       "       [0, 0, 0, 0, 0, 0, 0, 0, 1, 0],\n",
       "       [0, 0, 0, 0, 0, 0, 0, 0, 1, 0],\n",
       "       [0, 0, 0, 0, 0, 0, 1, 0, 0, 0],\n",
       "       [0, 0, 0, 0, 0, 0, 0, 0, 0, 1],\n",
       "       [0, 0, 0, 0, 0, 0, 0, 0, 1, 0],\n",
       "       [0, 0, 0, 0, 0, 0, 0, 1, 0, 0],\n",
       "       [0, 0, 0, 0, 0, 0, 1, 0, 0, 0],\n",
       "       [0, 0, 0, 0, 0, 0, 1, 0, 0, 0],\n",
       "       [0, 0, 0, 0, 0, 0, 0, 0, 1, 0],\n",
       "       [0, 0, 0, 0, 0, 0, 1, 0, 0, 0],\n",
       "       [0, 0, 0, 0, 0, 0, 0, 0, 0, 1],\n",
       "       [0, 0, 0, 0, 0, 0, 0, 1, 0, 0],\n",
       "       [0, 0, 0, 0, 0, 0, 1, 0, 0, 0],\n",
       "       [0, 0, 0, 0, 0, 0, 1, 0, 0, 0],\n",
       "       [0, 0, 0, 0, 0, 0, 0, 0, 1, 0],\n",
       "       [0, 0, 0, 0, 0, 0, 0, 1, 0, 0],\n",
       "       [0, 0, 0, 0, 0, 0, 0, 0, 0, 1],\n",
       "       [0, 0, 0, 0, 0, 0, 0, 0, 0, 1],\n",
       "       [0, 0, 0, 0, 0, 0, 0, 1, 0, 0],\n",
       "       [0, 0, 0, 0, 0, 0, 1, 0, 0, 0],\n",
       "       [0, 0, 0, 0, 0, 0, 1, 0, 0, 0],\n",
       "       [0, 0, 0, 0, 0, 0, 1, 0, 0, 0],\n",
       "       [0, 0, 0, 0, 0, 0, 0, 0, 0, 1],\n",
       "       [0, 0, 0, 0, 0, 0, 0, 0, 0, 1],\n",
       "       [0, 0, 0, 0, 0, 0, 0, 0, 0, 1],\n",
       "       [0, 0, 0, 0, 0, 0, 0, 1, 0, 0],\n",
       "       [0, 0, 0, 0, 0, 0, 1, 0, 0, 0],\n",
       "       [0, 0, 0, 0, 0, 0, 1, 0, 0, 0],\n",
       "       [0, 0, 0, 0, 0, 0, 0, 0, 0, 1],\n",
       "       [0, 0, 0, 0, 0, 0, 0, 0, 0, 1],\n",
       "       [0, 0, 0, 0, 0, 0, 0, 0, 1, 0],\n",
       "       [0, 0, 0, 0, 0, 0, 0, 0, 1, 0],\n",
       "       [0, 0, 0, 0, 0, 0, 0, 1, 0, 0],\n",
       "       [0, 0, 0, 0, 0, 0, 0, 0, 0, 1],\n",
       "       [0, 0, 0, 0, 0, 0, 0, 0, 0, 1],\n",
       "       [0, 0, 0, 0, 0, 0, 0, 0, 0, 1],\n",
       "       [0, 0, 0, 0, 0, 0, 0, 0, 0, 1],\n",
       "       [0, 0, 0, 0, 0, 0, 0, 0, 1, 0],\n",
       "       [0, 0, 0, 0, 0, 0, 0, 0, 0, 1],\n",
       "       [0, 0, 0, 0, 0, 0, 0, 0, 0, 1],\n",
       "       [0, 0, 0, 0, 0, 0, 0, 1, 0, 0],\n",
       "       [0, 0, 0, 0, 0, 0, 0, 0, 0, 1],\n",
       "       [0, 0, 0, 0, 0, 0, 1, 0, 0, 0],\n",
       "       [0, 0, 0, 0, 0, 0, 0, 0, 0, 1],\n",
       "       [0, 0, 0, 0, 0, 0, 0, 0, 0, 1],\n",
       "       [0, 0, 0, 0, 0, 0, 0, 0, 0, 1],\n",
       "       [0, 0, 0, 0, 0, 0, 1, 0, 0, 0],\n",
       "       [0, 0, 0, 0, 0, 0, 0, 0, 0, 1],\n",
       "       [0, 0, 0, 0, 0, 0, 0, 1, 0, 0],\n",
       "       [0, 0, 0, 0, 0, 0, 1, 0, 0, 0],\n",
       "       [0, 0, 0, 0, 0, 0, 0, 1, 0, 0],\n",
       "       [0, 0, 0, 0, 0, 0, 0, 1, 0, 0],\n",
       "       [0, 0, 0, 0, 0, 0, 0, 0, 0, 1],\n",
       "       [0, 0, 0, 0, 0, 0, 0, 0, 0, 1],\n",
       "       [0, 0, 0, 0, 0, 0, 0, 0, 0, 1],\n",
       "       [0, 0, 0, 0, 0, 0, 1, 0, 0, 0],\n",
       "       [0, 0, 0, 0, 0, 0, 0, 0, 1, 0],\n",
       "       [0, 0, 0, 0, 0, 0, 0, 1, 0, 0],\n",
       "       [0, 0, 0, 0, 0, 0, 0, 0, 0, 1],\n",
       "       [0, 0, 0, 0, 0, 0, 0, 0, 0, 1]], dtype=int64)"
      ]
     },
     "execution_count": 564,
     "metadata": {},
     "output_type": "execute_result"
    }
   ],
   "source": [
    "y_test"
   ]
  },
  {
   "cell_type": "code",
   "execution_count": 575,
   "metadata": {},
   "outputs": [],
   "source": [
    "def convert_classes(val):\n",
    "    count=np.argmax(val)+1\n",
    "    return count"
   ]
  },
  {
   "cell_type": "code",
   "execution_count": 576,
   "metadata": {},
   "outputs": [],
   "source": [
    "y_test_classes=list(map(lambda x:convert_classes(x),y_test))\n",
    "pred_classes=list(map(lambda x:convert_classes(x),preds))"
   ]
  },
  {
   "cell_type": "code",
   "execution_count": 577,
   "metadata": {},
   "outputs": [
    {
     "name": "stdout",
     "output_type": "stream",
     "text": [
      "              precision    recall  f1-score   support\n",
      "\n",
      "           7       0.00      0.00      0.00        20\n",
      "           8       0.00      0.00      0.00        25\n",
      "           9       0.00      0.00      0.00        19\n",
      "          10       0.36      1.00      0.53        36\n",
      "\n",
      "   micro avg       0.36      0.36      0.36       100\n",
      "   macro avg       0.09      0.25      0.13       100\n",
      "weighted avg       0.13      0.36      0.19       100\n",
      "\n"
     ]
    },
    {
     "name": "stderr",
     "output_type": "stream",
     "text": [
      "D:\\Software\\Anaconda\\lib\\site-packages\\sklearn\\metrics\\classification.py:1143: UndefinedMetricWarning: Precision and F-score are ill-defined and being set to 0.0 in labels with no predicted samples.\n",
      "  'precision', 'predicted', average, warn_for)\n"
     ]
    }
   ],
   "source": [
    "from sklearn.metrics import classification_report\n",
    "print(classification_report(y_test_classes,pred_classes))"
   ]
  },
  {
   "cell_type": "code",
   "execution_count": 578,
   "metadata": {},
   "outputs": [
    {
     "data": {
      "text/plain": [
       "<matplotlib.axes._subplots.AxesSubplot at 0x179d6fdb588>"
      ]
     },
     "execution_count": 578,
     "metadata": {},
     "output_type": "execute_result"
    },
    {
     "data": {
      "image/png": "[encoded data removed]",
      "text/plain": [
       "<Figure size 864x864 with 2 Axes>"
      ]
     },
     "metadata": {
      "needs_background": "light"
     },
     "output_type": "display_data"
    }
   ],
   "source": [
    "import scikitplot as skplt\n",
    "\n",
    "skplt.metrics.plot_confusion_matrix(\n",
    "    y_test_classes, \n",
    "    pred_classes,\n",
    "    figsize=(12,12))"
   ]
  }
 ],
 "metadata": {
  "kernelspec": {
   "display_name": "Python 3",
   "language": "python",
   "name": "python3"
  },
  "language_info": {
   "codemirror_mode": {
    "name": "ipython",
    "version": 3
   },
   "file_extension": ".py",
   "mimetype": "text/x-python",
   "name": "python",
   "nbconvert_exporter": "python",
   "pygments_lexer": "ipython3",
   "version": "3.7.1"
  }
 },
 "nbformat": 4,
 "nbformat_minor": 2
}
